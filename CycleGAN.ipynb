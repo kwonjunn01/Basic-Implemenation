{
 "cells": [
  {
   "cell_type": "code",
   "execution_count": 2,
   "metadata": {},
   "outputs": [],
   "source": [
    "import os\n",
    "import os.path as osp\n",
    "import random\n",
    "import torch\n",
    "import torch.nn as nn\n",
    "import torch.nn.parallel\n",
    "import torch.nn.functional as F\n",
    "import torch.backends.cudnn as cudnn\n",
    "import torch.utils.data\n",
    "import torchvision\n",
    "import torchvision.datasets as dset\n",
    "import torchvision.transforms as transforms\n",
    "import numpy as np\n",
    "import matplotlib.pyplot as plt\n",
    "\n",
    "%matplotlib inline\n",
    "\n",
    "os.environ[\"CUDA_DEVICE_ORDER\"]=\"PCI_BUS_ID\"\n",
    "os.environ[\"CUDA_VISIBLE_DEVICES\"]=\"0\""
   ]
  },
  {
   "cell_type": "code",
   "execution_count": 3,
   "metadata": {},
   "outputs": [
    {
     "name": "stdout",
     "output_type": "stream",
     "text": [
      "STEP 0: PARAMETER SETTING\n"
     ]
    }
   ],
   "source": [
    "print('STEP 0: PARAMETER SETTING')\n",
    "\n",
    "# Data root directory\n",
    "train_X_root = './dataset/lab13/mnist/'\n",
    "train_Y_root = './dataset/lab13/svhn/'\n",
    "\n",
    "# Batch size during training\n",
    "bs = 64\n",
    "\n",
    "# Size of image size\n",
    "img_height = 32\n",
    "img_width = 32\n",
    "img_size = 32\n",
    "img_depth = 3\n",
    "\n",
    "# Channels of generator feature\n",
    "gfc = 64\n",
    "\n",
    "# Channels of discriminator feature\n",
    "dfc = 64\n",
    "\n",
    "# Number of training epochs\n",
    "num_epochs = 5\n",
    "\n",
    "# Learning rate for optimizing\n",
    "lr = 0.0002\n",
    "\n",
    "# Beta1 hyperparameter for Adam optimizers\n",
    "beta1 = 0.5\n",
    "\n",
    "# Real or Fake label\n",
    "real_label = 1\n",
    "fake_label = 0"
   ]
  },
  {
   "cell_type": "code",
   "execution_count": 4,
   "metadata": {},
   "outputs": [
    {
     "name": "stdout",
     "output_type": "stream",
     "text": [
      "STEP 1: LOADING DATASET\n",
      "Using downloaded and verified file: ./dataset/lab13/svhn/train_32x32.mat\n",
      "Using downloaded and verified file: ./dataset/lab13/svhn/test_32x32.mat\n"
     ]
    }
   ],
   "source": [
    "print('STEP 1: LOADING DATASET')\n",
    "\n",
    "transform = transforms.Compose([\n",
    "    transforms.Resize(img_size),\n",
    "    transforms.ToTensor(),\n",
    "    transforms.Normalize((0.5, 0.5, 0.5), (0.5, 0.5, 0.5))])\n",
    "m_transform = transforms.Compose([transforms.Resize(img_size),\n",
    "    transforms.ToTensor(),\n",
    "    transforms.Normalize((0.1307,), (0.3081,))])\n",
    "\n",
    "train_X_set = dset.MNIST(root=train_X_root,\n",
    "                         train=True,\n",
    "                         transform=m_transform,\n",
    "                         download=True)\n",
    "train_Y_set = dset.SVHN(root=train_Y_root,\n",
    "                        split='train',\n",
    "                        transform=transform,\n",
    "                        download=True)\n",
    "test_X_set = dset.MNIST(root=train_X_root,\n",
    "                         train=False,\n",
    "                         transform=m_transform,\n",
    "                         download=True)\n",
    "test_Y_set = dset.SVHN(root=train_Y_root,\n",
    "                        split='test',\n",
    "                        transform=transform,\n",
    "                        download=True)\n"
   ]
  },
  {
   "cell_type": "code",
   "execution_count": 5,
   "metadata": {},
   "outputs": [
    {
     "name": "stdout",
     "output_type": "stream",
     "text": [
      "STEP 2: MAKING DATASET ITERABLE\n"
     ]
    }
   ],
   "source": [
    "print('STEP 2: MAKING DATASET ITERABLE')\n",
    "\n",
    "train_X_loader = torch.utils.data.DataLoader(train_X_set,\n",
    "                                             batch_size=bs, \n",
    "                                             shuffle=True,\n",
    "                                             drop_last=True)\n",
    "\n",
    "train_Y_loader = torch.utils.data.DataLoader(train_Y_set,\n",
    "                                             batch_size=bs, \n",
    "                                             shuffle=True,\n",
    "                                             drop_last=True)\n",
    "\n",
    "test_X_loader = torch.utils.data.DataLoader(test_X_set,\n",
    "                                             batch_size=bs, \n",
    "                                             shuffle=False,\n",
    "                                             drop_last=True)\n",
    "\n",
    "test_Y_loader = torch.utils.data.DataLoader(test_Y_set,\n",
    "                                             batch_size=bs, \n",
    "                                             shuffle=False,\n",
    "                                             drop_last=True)"
   ]
  },
  {
   "cell_type": "code",
   "execution_count": 6,
   "metadata": {},
   "outputs": [],
   "source": [
    "def imshow(inp, title=None):\n",
    "    \"\"\"Imshow for Tensor.\"\"\"\n",
    "    inp = inp.numpy().transpose((1, 2, 0))\n",
    "    mean = np.array([0.5, 0.5, 0.5])\n",
    "    std = np.array([0.5, 0.5, 0.5])\n",
    "    inp = std * inp + mean\n",
    "    inp = np.clip(inp, 0, 1)\n",
    "    plt.imshow(inp)\n",
    "    if title is not None:\n",
    "        plt.title(title)\n",
    "    plt.pause(0.001)  # pause a bit so that plots are updated"
   ]
  },
  {
   "cell_type": "code",
   "execution_count": 7,
   "metadata": {},
   "outputs": [
    {
     "data": {
      "image/png": "[encoded data removed]",
      "text/plain": [
       "<Figure size 432x288 with 1 Axes>"
      ]
     },
     "metadata": {
      "needs_background": "light"
     },
     "output_type": "display_data"
    },
    {
     "data": {
      "image/png": "[encoded data removed]",
      "text/plain": [
       "<Figure size 432x288 with 1 Axes>"
      ]
     },
     "metadata": {
      "needs_background": "light"
     },
     "output_type": "display_data"
    }
   ],
   "source": [
    "data_loader_X_sample = torch.utils.data.DataLoader(train_X_set,\n",
    "                                                 batch_size=4, \n",
    "                                                 shuffle=True)\n",
    "data_loader_Y_sample = torch.utils.data.DataLoader(train_Y_set,\n",
    "                                                 batch_size=4, \n",
    "                                                 shuffle=True)\n",
    "\n",
    "# Get a batch of training data\n",
    "\n",
    "X = next(iter(data_loader_X_sample))\n",
    "Y = next(iter(data_loader_Y_sample))\n",
    "\n",
    "\n",
    "# Make a grid from batch\n",
    "out_X = torchvision.utils.make_grid(X[0])\n",
    "out_Y = torchvision.utils.make_grid(Y[0])\n",
    "\n",
    "imshow(out_X)\n",
    "imshow(out_Y)"
   ]
  },
  {
   "cell_type": "code",
   "execution_count": 8,
   "metadata": {},
   "outputs": [],
   "source": [
    "def conv2d(params_list, batch_norm = True):\n",
    "    channel_in, channel_out, kernel_size, stride, padding, activation = params_list\n",
    "    layers = []\n",
    "    if batch_norm:\n",
    "        layers += [nn.Conv2d(channel_in, channel_out, kernel_size, stride, padding, bias=False),\n",
    "                   nn.BatchNorm2d(channel_out)]\n",
    "        nn.init.xavier_uniform_(layers[0].weight)\n",
    "    else:\n",
    "        layers += [nn.Conv2d(channel_in, channel_out, kernel_size, stride, padding, bias=False)]\n",
    "        nn.init.xavier_uniform_(layers[0].weight)\n",
    "        \n",
    "    if activation == 'ReLU':\n",
    "        layers += [nn.ReLU(inplace=True)]\n",
    "    if activation == 'LeakyReLU':\n",
    "        layers += [nn.LeakyReLU(0.2, inplace=True)]\n",
    "    if activation == 'Tanh':\n",
    "        layers += [nn.Tanh()]\n",
    "    if activation == 'Sigmoid':\n",
    "        layers += [nn.Sigmoid()]\n",
    "        \n",
    "    return nn.Sequential(*layers)\n",
    "        \n",
    "    \n",
    "def upconv2d(params_list, batch_norm = True):\n",
    "    channel_in, channel_out, kernel_size, stride, padding, activation = params_list\n",
    "    layers = []\n",
    "    if batch_norm:\n",
    "        layers += [nn.ConvTranspose2d(channel_in, channel_out, kernel_size, stride, padding, bias=False),\n",
    "                   nn.BatchNorm2d(channel_out)]\n",
    "        nn.init.xavier_uniform_(layers[0].weight)\n",
    "    else:\n",
    "        layers += [nn.ConvTranspose2d(channel_in, channel_out, kernel_size, stride, padding, bias=False)]\n",
    "        nn.init.xavier_uniform_(layers[0].weight)\n",
    "        \n",
    "    if activation == 'ReLU':\n",
    "        layers += [nn.ReLU(inplace=True)]\n",
    "    if activation == 'LeakyReLU':\n",
    "        layers += [nn.LeakyReLU(0.2, inplace=True)]\n",
    "    if activation == 'Tanh':\n",
    "        layers += [nn.Tanh()]\n",
    "    if activation == 'Sigmoid':\n",
    "        layers += [nn.Sigmoid()]\n",
    "        \n",
    "    return nn.Sequential(*layers)"
   ]
  },
  {
   "cell_type": "code",
   "execution_count": 9,
   "metadata": {},
   "outputs": [
    {
     "name": "stdout",
     "output_type": "stream",
     "text": [
      "STEP 3-1: CREATE MODEL CLASS (Generator)\n"
     ]
    }
   ],
   "source": [
    "print('STEP 3-1: CREATE MODEL CLASS (Generator)')\n",
    "\n",
    "\n",
    "# [input channels, output channels, kernel_size, strides, paddings]\n",
    "\n",
    "cfg_g_enc_X = [[1, 64, 7, 2, 3,\"LeakyReLU\"], [64, 128, 3, 2, 1, \"LeakyReLU\"]]\n",
    "cfg_g_enc_Y = [[3, 64, 7, 2, 3,\"LeakyReLU\"], [64, 128, 3, 2, 1, \"LeakyReLU\"]]\n",
    "cfg_g_trans = [[128, 128, 3, 1, 1, \"LeakyReLU\" ], [128, 128, 3, 1, 1, \"LeakyReLU\"], [128, 128, 3, 1, 1, \"LeakyReLU\"]]\n",
    "cfg_g_dec_X = [[128, 64, 4, 2, 1, \"LeakyReLU\"], [64, 3, 4, 2, 1, \"Tanh\"]]\n",
    "cfg_g_dec_Y = [[128, 64, 4, 2, 1, \"LeakyReLU\"], [64, 1, 4, 2, 1, \"Tanh\"]]\n",
    "\n",
    "\n",
    "class Generator_X(nn.Module):\n",
    "    def __init__(self, enc, trans, dec):\n",
    "        super(Generator_X, self).__init__()\n",
    "        \n",
    "        \n",
    "        self.conv1 = conv2d(enc[0], False)\n",
    "        self.conv2 = conv2d(enc[1])\n",
    "        self.conv3 = conv2d(trans[0])\n",
    "        self.conv4 = conv2d(trans[1])\n",
    "        self.conv5 = conv2d(trans[2])\n",
    "        self.upconv1 = upconv2d(dec[0])\n",
    "        self.upconv2 = upconv2d(dec[1], False)\n",
    "        \n",
    "        \n",
    "    def forward(self, x):\n",
    "        \n",
    "        #############\n",
    "        x = self.conv1(x)\n",
    "        x = self.conv2(x)\n",
    "        x = self.conv3(x) + x\n",
    "        x = self.conv4(x) + x\n",
    "        x = self.conv5(x) + x\n",
    "        x = self.upconv1(x)\n",
    "        x = self.upconv2(x)\n",
    "        \n",
    "        return x\n",
    "        #############\n",
    "    \n",
    "class Generator_Y(nn.Module):\n",
    "    def __init__(self, enc, trans, dec):\n",
    "        super(Generator_Y, self).__init__()\n",
    "        \n",
    "        #############\n",
    "        self.conv1 = conv2d(enc[0], False)\n",
    "        self.conv2 = conv2d(enc[1])\n",
    "        self.conv3 = conv2d(trans[0])\n",
    "        self.conv4 = conv2d(trans[1])\n",
    "        self.conv5 = conv2d(trans[2])\n",
    "        self.upconv1 = upconv2d(dec[0])\n",
    "        self.upconv2 = upconv2d(dec[1], False)\n",
    "        #############\n",
    "        \n",
    "        \n",
    "    def forward(self, x):\n",
    "        \n",
    "        #############\n",
    "        x = self.conv1(x)\n",
    "        x = self.conv2(x)\n",
    "        x = self.conv3(x) + x\n",
    "        x = self.conv4(x) + x\n",
    "        x = self.conv5(x) + x\n",
    "        x = self.upconv1(x)\n",
    "        x = self.upconv2(x)\n",
    "        \n",
    "        return x\n",
    "        #############  \n",
    "        "
   ]
  },
  {
   "cell_type": "code",
   "execution_count": 10,
   "metadata": {},
   "outputs": [
    {
     "name": "stdout",
     "output_type": "stream",
     "text": [
      "STEP 3-2: CREATE MODEL CLASS (Discriminator)\n"
     ]
    }
   ],
   "source": [
    "print('STEP 3-2: CREATE MODEL CLASS (Discriminator)')\n",
    "\n",
    "\n",
    "# [input channels, output channels, kernel_size, strides, paddings]\n",
    "\n",
    "cfg_d_X = [[1, 64, 4, 2, 1,\"LeakyReLU\"], [64, 128, 4, 2, 1,\"LeakyReLU\"], [128, 256, 4, 1, 1,\"LeakyReLU\"], [256, 1, 2, 1, 1,\"Sigmoid\"]]\n",
    "cfg_d_Y = [[3, 64, 4, 2, 1,\"LeakyReLU\"], [64, 128, 4, 2, 1,\"LeakyReLU\"], [128, 256, 4, 1, 1,\"LeakyReLU\"], [256, 3, 2, 1, 1,\"Sigmoid\"]]\n",
    "\n",
    "\n",
    "class Discriminator_X(nn.Module):\n",
    "    def __init__(self, cfg):\n",
    "        super(Discriminator_X, self).__init__()\n",
    "        \n",
    "        #############\n",
    "        self.conv1 = conv2d(cfg[0], False)\n",
    "        self.conv2 = conv2d(cfg[1])\n",
    "        self.conv3 = conv2d(cfg[2])\n",
    "        self.conv4 = conv2d(cfg[3], False)\n",
    "        #############\n",
    "        \n",
    "    def forward(self, x):\n",
    "        \n",
    "        #############\n",
    "        x = self.conv1(x)\n",
    "        x = self.conv2(x)\n",
    "        x = self.conv3(x)\n",
    "        x = self.conv4(x)\n",
    "        \n",
    "        return x\n",
    "        #############\n",
    "    \n",
    "class Discriminator_Y(nn.Module):\n",
    "    def __init__(self, cfg):\n",
    "        super(Discriminator_Y, self).__init__()\n",
    "        \n",
    "        #############\n",
    "        self.conv1 = conv2d(cfg[0], False)\n",
    "        self.conv2 = conv2d(cfg[1])\n",
    "        self.conv3 = conv2d(cfg[2])\n",
    "        self.conv4 = conv2d(cfg[3], False)\n",
    "        #############\n",
    "        \n",
    "    def forward(self, x):\n",
    "        \n",
    "        #############\n",
    "        x = self.conv1(x)\n",
    "        x = self.conv2(x)\n",
    "        x = self.conv3(x)\n",
    "        x = self.conv4(x)\n",
    "        \n",
    "        return x\n",
    "        #############\n",
    "        "
   ]
  },
  {
   "cell_type": "code",
   "execution_count": 11,
   "metadata": {},
   "outputs": [
    {
     "name": "stdout",
     "output_type": "stream",
     "text": [
      "STEP 4: INSTANTIATE MODEL CLASS\n",
      "Generator_X(\n",
      "  (conv1): Sequential(\n",
      "    (0): Conv2d(1, 64, kernel_size=(7, 7), stride=(2, 2), padding=(3, 3), bias=False)\n",
      "    (1): LeakyReLU(negative_slope=0.2, inplace)\n",
      "  )\n",
      "  (conv2): Sequential(\n",
      "    (0): Conv2d(64, 128, kernel_size=(3, 3), stride=(2, 2), padding=(1, 1), bias=False)\n",
      "    (1): BatchNorm2d(128, eps=1e-05, momentum=0.1, affine=True, track_running_stats=True)\n",
      "    (2): LeakyReLU(negative_slope=0.2, inplace)\n",
      "  )\n",
      "  (conv3): Sequential(\n",
      "    (0): Conv2d(128, 128, kernel_size=(3, 3), stride=(1, 1), padding=(1, 1), bias=False)\n",
      "    (1): BatchNorm2d(128, eps=1e-05, momentum=0.1, affine=True, track_running_stats=True)\n",
      "    (2): LeakyReLU(negative_slope=0.2, inplace)\n",
      "  )\n",
      "  (conv4): Sequential(\n",
      "    (0): Conv2d(128, 128, kernel_size=(3, 3), stride=(1, 1), padding=(1, 1), bias=False)\n",
      "    (1): BatchNorm2d(128, eps=1e-05, momentum=0.1, affine=True, track_running_stats=True)\n",
      "    (2): LeakyReLU(negative_slope=0.2, inplace)\n",
      "  )\n",
      "  (conv5): Sequential(\n",
      "    (0): Conv2d(128, 128, kernel_size=(3, 3), stride=(1, 1), padding=(1, 1), bias=False)\n",
      "    (1): BatchNorm2d(128, eps=1e-05, momentum=0.1, affine=True, track_running_stats=True)\n",
      "    (2): LeakyReLU(negative_slope=0.2, inplace)\n",
      "  )\n",
      "  (upconv1): Sequential(\n",
      "    (0): ConvTranspose2d(128, 64, kernel_size=(4, 4), stride=(2, 2), padding=(1, 1), bias=False)\n",
      "    (1): BatchNorm2d(64, eps=1e-05, momentum=0.1, affine=True, track_running_stats=True)\n",
      "    (2): LeakyReLU(negative_slope=0.2, inplace)\n",
      "  )\n",
      "  (upconv2): Sequential(\n",
      "    (0): ConvTranspose2d(64, 3, kernel_size=(4, 4), stride=(2, 2), padding=(1, 1), bias=False)\n",
      "    (1): Tanh()\n",
      "  )\n",
      ")\n",
      "Generator_Y(\n",
      "  (conv1): Sequential(\n",
      "    (0): Conv2d(3, 64, kernel_size=(7, 7), stride=(2, 2), padding=(3, 3), bias=False)\n",
      "    (1): LeakyReLU(negative_slope=0.2, inplace)\n",
      "  )\n",
      "  (conv2): Sequential(\n",
      "    (0): Conv2d(64, 128, kernel_size=(3, 3), stride=(2, 2), padding=(1, 1), bias=False)\n",
      "    (1): BatchNorm2d(128, eps=1e-05, momentum=0.1, affine=True, track_running_stats=True)\n",
      "    (2): LeakyReLU(negative_slope=0.2, inplace)\n",
      "  )\n",
      "  (conv3): Sequential(\n",
      "    (0): Conv2d(128, 128, kernel_size=(3, 3), stride=(1, 1), padding=(1, 1), bias=False)\n",
      "    (1): BatchNorm2d(128, eps=1e-05, momentum=0.1, affine=True, track_running_stats=True)\n",
      "    (2): LeakyReLU(negative_slope=0.2, inplace)\n",
      "  )\n",
      "  (conv4): Sequential(\n",
      "    (0): Conv2d(128, 128, kernel_size=(3, 3), stride=(1, 1), padding=(1, 1), bias=False)\n",
      "    (1): BatchNorm2d(128, eps=1e-05, momentum=0.1, affine=True, track_running_stats=True)\n",
      "    (2): LeakyReLU(negative_slope=0.2, inplace)\n",
      "  )\n",
      "  (conv5): Sequential(\n",
      "    (0): Conv2d(128, 128, kernel_size=(3, 3), stride=(1, 1), padding=(1, 1), bias=False)\n",
      "    (1): BatchNorm2d(128, eps=1e-05, momentum=0.1, affine=True, track_running_stats=True)\n",
      "    (2): LeakyReLU(negative_slope=0.2, inplace)\n",
      "  )\n",
      "  (upconv1): Sequential(\n",
      "    (0): ConvTranspose2d(128, 64, kernel_size=(4, 4), stride=(2, 2), padding=(1, 1), bias=False)\n",
      "    (1): BatchNorm2d(64, eps=1e-05, momentum=0.1, affine=True, track_running_stats=True)\n",
      "    (2): LeakyReLU(negative_slope=0.2, inplace)\n",
      "  )\n",
      "  (upconv2): Sequential(\n",
      "    (0): ConvTranspose2d(64, 1, kernel_size=(4, 4), stride=(2, 2), padding=(1, 1), bias=False)\n",
      "    (1): Tanh()\n",
      "  )\n",
      ")\n",
      "Discriminator_X(\n",
      "  (conv1): Sequential(\n",
      "    (0): Conv2d(1, 64, kernel_size=(4, 4), stride=(2, 2), padding=(1, 1), bias=False)\n",
      "    (1): LeakyReLU(negative_slope=0.2, inplace)\n",
      "  )\n",
      "  (conv2): Sequential(\n",
      "    (0): Conv2d(64, 128, kernel_size=(4, 4), stride=(2, 2), padding=(1, 1), bias=False)\n",
      "    (1): BatchNorm2d(128, eps=1e-05, momentum=0.1, affine=True, track_running_stats=True)\n",
      "    (2): LeakyReLU(negative_slope=0.2, inplace)\n",
      "  )\n",
      "  (conv3): Sequential(\n",
      "    (0): Conv2d(128, 256, kernel_size=(4, 4), stride=(1, 1), padding=(1, 1), bias=False)\n",
      "    (1): BatchNorm2d(256, eps=1e-05, momentum=0.1, affine=True, track_running_stats=True)\n",
      "    (2): LeakyReLU(negative_slope=0.2, inplace)\n",
      "  )\n",
      "  (conv4): Sequential(\n",
      "    (0): Conv2d(256, 1, kernel_size=(2, 2), stride=(1, 1), padding=(1, 1), bias=False)\n",
      "    (1): Sigmoid()\n",
      "  )\n",
      ")\n"
     ]
    },
    {
     "data": {
      "text/plain": [
       "Discriminator_Y(\n",
       "  (conv1): Sequential(\n",
       "    (0): Conv2d(3, 64, kernel_size=(4, 4), stride=(2, 2), padding=(1, 1), bias=False)\n",
       "    (1): LeakyReLU(negative_slope=0.2, inplace)\n",
       "  )\n",
       "  (conv2): Sequential(\n",
       "    (0): Conv2d(64, 128, kernel_size=(4, 4), stride=(2, 2), padding=(1, 1), bias=False)\n",
       "    (1): BatchNorm2d(128, eps=1e-05, momentum=0.1, affine=True, track_running_stats=True)\n",
       "    (2): LeakyReLU(negative_slope=0.2, inplace)\n",
       "  )\n",
       "  (conv3): Sequential(\n",
       "    (0): Conv2d(128, 256, kernel_size=(4, 4), stride=(1, 1), padding=(1, 1), bias=False)\n",
       "    (1): BatchNorm2d(256, eps=1e-05, momentum=0.1, affine=True, track_running_stats=True)\n",
       "    (2): LeakyReLU(negative_slope=0.2, inplace)\n",
       "  )\n",
       "  (conv4): Sequential(\n",
       "    (0): Conv2d(256, 3, kernel_size=(2, 2), stride=(1, 1), padding=(1, 1), bias=False)\n",
       "    (1): Sigmoid()\n",
       "  )\n",
       ")"
      ]
     },
     "execution_count": 11,
     "metadata": {},
     "output_type": "execute_result"
    }
   ],
   "source": [
    "print('STEP 4: INSTANTIATE MODEL CLASS')\n",
    "\n",
    "\n",
    "model_G_X = Generator_X(cfg_g_enc_X, cfg_g_trans, cfg_g_dec_X)\n",
    "model_G_Y = Generator_Y(cfg_g_enc_Y, cfg_g_trans, cfg_g_dec_Y)\n",
    "model_D_X = Discriminator_X(cfg_d_X)\n",
    "model_D_Y = Discriminator_Y(cfg_d_Y)\n",
    "\n",
    "\n",
    "#######################\n",
    "#  USE GPU FOR MODEL  #\n",
    "#######################\n",
    "\n",
    "\n",
    "device = torch.device(\"cuda:0\" if torch.cuda.is_available() else \"cpu\")\n",
    "model_G_X.to(device)\n",
    "print(model_G_X)\n",
    "model_G_Y.to(device)\n",
    "print(model_G_Y)\n",
    "model_D_X.to(device)\n",
    "print(model_D_X)\n",
    "model_D_Y.to(device)"
   ]
  },
  {
   "cell_type": "code",
   "execution_count": 12,
   "metadata": {},
   "outputs": [
    {
     "name": "stdout",
     "output_type": "stream",
     "text": [
      "STEP 5: INSTANTIATE LOSS CLASS\n",
      "STEP 6: INSTANTIATE OPTIMIZER CLASS\n"
     ]
    }
   ],
   "source": [
    "print('STEP 5: INSTANTIATE LOSS CLASS')\n",
    "\n",
    "criterion_GAN = nn.BCELoss()\n",
    "criterion_L1 = nn.L1Loss()\n",
    "\n",
    "print('STEP 6: INSTANTIATE OPTIMIZER CLASS')\n",
    "\n",
    "optimizer_G_X = torch.optim.Adam(model_G_X.parameters(), lr=lr, betas=(beta1, 0.999))\n",
    "optimizer_G_Y = torch.optim.Adam(model_G_Y.parameters(), lr=lr, betas=(beta1, 0.999))\n",
    "optimizer_D_X = torch.optim.Adam(model_D_X.parameters(), lr=lr, betas=(beta1, 0.999))\n",
    "optimizer_D_Y = torch.optim.Adam(model_D_Y.parameters(), lr=lr, betas=(beta1, 0.999))"
   ]
  },
  {
   "cell_type": "code",
   "execution_count": 13,
   "metadata": {},
   "outputs": [],
   "source": [
    "def weight_init(m):\n",
    "    classname = m.__class__.__name__\n",
    "    if classname.find('Conv') != -1:\n",
    "        torch.nn.init.xavier_uniform(m.weight.data)"
   ]
  },
  {
   "cell_type": "markdown",
   "metadata": {},
   "source": [
    "### 2.3 Train the Cycle GAN [4 points]\n",
    "* After the training is finished, check out the generated samples\n",
    "* If the samples are generated well, then you will get the full score"
   ]
  },
  {
   "cell_type": "code",
   "execution_count": 20,
   "metadata": {},
   "outputs": [
    {
     "name": "stdout",
     "output_type": "stream",
     "text": [
      "STEP 7: TRAIN THE MODEL\n"
     ]
    },
    {
     "name": "stderr",
     "output_type": "stream",
     "text": [
      "/opt/conda/lib/python3.6/site-packages/ipykernel_launcher.py:4: UserWarning: nn.init.xavier_uniform is now deprecated in favor of nn.init.xavier_uniform_.\n",
      "  after removing the cwd from sys.path.\n"
     ]
    },
    {
     "name": "stdout",
     "output_type": "stream",
     "text": [
      "[1/5][300/937]\tLoss_D: 2.3954\tLoss_G: 1.7586\tLoss_C: 0.6383\n",
      "[1/5][600/937]\tLoss_D: 2.2061\tLoss_G: 2.0376\tLoss_C: 0.6444\n",
      "[1/5][900/937]\tLoss_D: 2.1213\tLoss_G: 1.9460\tLoss_C: 0.6624\n",
      "[2/5][300/937]\tLoss_D: 2.3054\tLoss_G: 1.7450\tLoss_C: 0.6674\n",
      "[2/5][600/937]\tLoss_D: 2.1642\tLoss_G: 2.1634\tLoss_C: 0.6694\n",
      "[2/5][900/937]\tLoss_D: 2.1885\tLoss_G: 2.1490\tLoss_C: 0.6923\n",
      "[3/5][300/937]\tLoss_D: 2.3844\tLoss_G: 1.8711\tLoss_C: 0.7033\n",
      "[3/5][600/937]\tLoss_D: 2.1223\tLoss_G: 2.1893\tLoss_C: 0.7024\n",
      "[3/5][900/937]\tLoss_D: 1.8605\tLoss_G: 2.1201\tLoss_C: 0.7044\n",
      "[4/5][300/937]\tLoss_D: 2.3487\tLoss_G: 1.8684\tLoss_C: 0.6766\n",
      "[4/5][600/937]\tLoss_D: 2.3210\tLoss_G: 1.9995\tLoss_C: 0.6688\n",
      "[4/5][900/937]\tLoss_D: 2.0034\tLoss_G: 2.6124\tLoss_C: 0.6817\n",
      "[5/5][300/937]\tLoss_D: 2.2644\tLoss_G: 1.8463\tLoss_C: 0.6984\n",
      "[5/5][600/937]\tLoss_D: 2.3058\tLoss_G: 2.1358\tLoss_C: 0.6904\n",
      "[5/5][900/937]\tLoss_D: 2.1473\tLoss_G: 2.3776\tLoss_C: 0.7313\n"
     ]
    },
    {
     "name": "stderr",
     "output_type": "stream",
     "text": [
      "Clipping input data to the valid range for imshow with RGB data ([0..1] for floats or [0..255] for integers).\n",
      "Clipping input data to the valid range for imshow with RGB data ([0..1] for floats or [0..255] for integers).\n",
      "Clipping input data to the valid range for imshow with RGB data ([0..1] for floats or [0..255] for integers).\n",
      "Clipping input data to the valid range for imshow with RGB data ([0..1] for floats or [0..255] for integers).\n",
      "Clipping input data to the valid range for imshow with RGB data ([0..1] for floats or [0..255] for integers).\n"
     ]
    },
    {
     "data": {
      "image/png": "[encoded data removed]",
      "text/plain": [
       "<Figure size 432x288 with 1 Axes>"
      ]
     },
     "metadata": {
      "needs_background": "light"
     },
     "output_type": "display_data"
    },
    {
     "data": {
      "image/png": "[encoded data removed]",
      "text/plain": [
       "<Figure size 432x288 with 1 Axes>"
      ]
     },
     "metadata": {
      "needs_background": "light"
     },
     "output_type": "display_data"
    },
    {
     "data": {
      "image/png": "[encoded data removed]",
      "text/plain": [
       "<Figure size 432x288 with 1 Axes>"
      ]
     },
     "metadata": {
      "needs_background": "light"
     },
     "output_type": "display_data"
    },
    {
     "data": {
      "image/png": "[encoded data removed]",
      "text/plain": [
       "<Figure size 432x288 with 1 Axes>"
      ]
     },
     "metadata": {
      "needs_background": "light"
     },
     "output_type": "display_data"
    },
    {
     "data": {
      "image/png": "[encoded data removed]",
      "text/plain": [
       "<Figure size 432x288 with 1 Axes>"
      ]
     },
     "metadata": {
      "needs_background": "light"
     },
     "output_type": "display_data"
    }
   ],
   "source": [
    "print('STEP 7: TRAIN THE MODEL')\n",
    "\n",
    "label_realX = torch.full((bs, 1, 8, 8), real_label, dtype=torch.float32, device=device)\n",
    "label_fakeX = torch.full((bs, 1, 8, 8), fake_label, dtype=torch.float32, device=device)\n",
    "\n",
    "label_realY = torch.full((bs, 3, 8, 8), real_label, dtype=torch.float32, device=device)\n",
    "label_fakeY = torch.full((bs, 3, 8, 8), fake_label, dtype=torch.float32, device=device)\n",
    "\n",
    "result_img_list = []\n",
    "\n",
    "def transpose(numpy):\n",
    "    return np.transpose(numpy, [0,2,3,1])\n",
    "\n",
    "def gray2rgb(numpy):\n",
    "    return np.stack((numpy, numpy, numpy), 3)\n",
    "\n",
    "for epoch in range(num_epochs):\n",
    "    # weight initialization\n",
    "    model_G_X.apply(weight_init)\n",
    "    model_G_Y.apply(weight_init)\n",
    "    model_D_X.apply(weight_init)\n",
    "    model_D_Y.apply(weight_init)\n",
    "    \n",
    "    \n",
    "    model_G_X.train()\n",
    "    model_G_Y.train()\n",
    "    model_D_X.train()\n",
    "    model_D_Y.train()\n",
    "    \n",
    "    for i, data_X in enumerate(train_X_loader):\n",
    "        \n",
    "        \n",
    "        data_X = data_X[0].to(device)\n",
    "        data_Y = next(iter(train_Y_loader))[0].to(device)\n",
    "        \n",
    "        optimizer_D_X.zero_grad()\n",
    "        optimizer_D_Y.zero_grad()\n",
    "        optimizer_G_X.zero_grad()\n",
    "        optimizer_G_Y.zero_grad()\n",
    "        # Update discriminator model\n",
    "        #############\n",
    "        \n",
    "        fake_Y = model_G_X(data_X)\n",
    "        fake_X = model_G_Y(data_Y)\n",
    "        \n",
    "        pred_fX = model_D_X(fake_X)\n",
    "        pred_fY = model_D_Y(fake_Y)\n",
    "        pred_rX = model_D_X(data_X)\n",
    "        pred_rY = model_D_Y(data_Y)\n",
    "        #############\n",
    "        err_D = criterion_GAN(pred_rX, label_realX) + criterion_GAN(pred_rY, label_realY) + criterion_GAN(pred_fX, label_fakeX) + criterion_GAN(pred_fY, label_fakeY)\n",
    "        \n",
    "        err_D.backward()\n",
    "        optimizer_D_X.step()\n",
    "        optimizer_D_Y.step()\n",
    "        \n",
    "        # Update generator model\n",
    "        \n",
    "        #############\n",
    "        fake_Y = model_G_X(data_X)\n",
    "        fake_X = model_G_Y(data_Y)\n",
    "        \n",
    "        pred_fX = model_D_X(fake_X)\n",
    "        pred_fY = model_D_Y(fake_Y)\n",
    "        recon_Y = model_G_X(fake_X)\n",
    "        recon_X = model_G_Y(fake_Y)\n",
    "        \n",
    "        \n",
    "        #############\n",
    "        \n",
    "        err_G = criterion_GAN(pred_fX, label_realX) + criterion_GAN(pred_fY, label_realY)\n",
    "        \n",
    "        err_C = criterion_L1(recon_Y, data_Y) + criterion_L1(recon_X, data_X)\n",
    "        \n",
    "        err = err_G*1.5 + err_C*0.5\n",
    "        \n",
    "        err.backward()\n",
    "        \n",
    "        \n",
    "        optimizer_G_X.step()\n",
    "        optimizer_G_Y.step()\n",
    "        # Output training stats\n",
    "        if (i+1)%300 == 0:\n",
    "            print('[%d/%d][%d/%d]\\tLoss_D: %.4f\\tLoss_G: %.4f\\tLoss_C: %.4f'\n",
    "                  % (epoch+1, num_epochs, i+1, len(train_X_loader),\n",
    "                     err_D.item(), err_G.item(), err_C.item()))\n",
    "\n",
    "    \n",
    "    \n",
    "    model_G_X.eval()\n",
    "    model_G_Y.eval()\n",
    "    model_D_X.eval()\n",
    "    model_D_Y.eval()\n",
    "\n",
    "    for i, data_X in enumerate(test_X_loader):\n",
    "\n",
    "        data_X = data_X[0].to(device)\n",
    "        data_Y = next(iter(test_Y_loader))[0].to(device)\n",
    "\n",
    "        output_Y = model_G_X(data_X).cpu().data.numpy()\n",
    "        output_X = model_G_Y(data_Y).cpu().data.numpy()\n",
    "        data_X = data_X.cpu().data.numpy()\n",
    "        data_Y = data_Y.cpu().data.numpy()\n",
    "\n",
    "        if i == 2:\n",
    "            break\n",
    "\n",
    "    X = np.concatenate((gray2rgb(transpose((data_X+1)/2)[:,:,:,0])[48], transpose((output_Y+1)/2)[48]), axis=1)\n",
    "    Y = np.concatenate((gray2rgb(transpose((output_X+1)/2)[:,:,:,0])[48], transpose((data_Y+1)/2)[48]), axis=1)\n",
    "    XY = np.concatenate((X, Y), axis=0)\n",
    "    result_img_list.append(XY)\n",
    "        \n",
    "for j in range(len(result_img_list)):\n",
    "    plt.imshow(result_img_list[j])\n",
    "    if j+1 != len(result_img_list):\n",
    "        plt.figure()"
   ]
  },
  {
   "cell_type": "markdown",
   "metadata": {},
   "source": [
    "### *References*\n",
    "[1] Zhu et al., \"Unpaired Image-to-Image Translation using Cycle-Consistent Adversarial Networks\", *ICCV*, 2017. <br>\n",
    "[2] https://hardikbansal.github.io/CycleGANBlog/ <br>\n",
    "[3] Glorot & Bengio, \"Understanding the difficulty of training deep feedforward neural networks\", *AISTATS* 2010 <br>"
   ]
  },
  {
   "cell_type": "code",
   "execution_count": null,
   "metadata": {
    "collapsed": true
   },
   "outputs": [],
   "source": []
  }
 ],
 "metadata": {
  "kernelspec": {
   "display_name": "Python 3",
   "language": "python",
   "name": "python3"
  },
  "language_info": {
   "codemirror_mode": {
    "name": "ipython",
    "version": 3
   },
   "file_extension": ".py",
   "mimetype": "text/x-python",
   "name": "python",
   "nbconvert_exporter": "python",
   "pygments_lexer": "ipython3",
   "version": "3.6.8"
  }
 },
 "nbformat": 4,
 "nbformat_minor": 2
}
